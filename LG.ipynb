{
 "cells": [
  {
   "cell_type": "code",
   "execution_count": 3,
   "metadata": {},
   "outputs": [
    {
     "name": "stdout",
     "output_type": "stream",
     "text": [
      "Collecting openpyxl\n",
      "  Downloading openpyxl-3.1.5-py2.py3-none-any.whl.metadata (2.5 kB)\n",
      "Collecting et-xmlfile (from openpyxl)\n",
      "  Downloading et_xmlfile-2.0.0-py3-none-any.whl.metadata (2.7 kB)\n",
      "Downloading openpyxl-3.1.5-py2.py3-none-any.whl (250 kB)\n",
      "Downloading et_xmlfile-2.0.0-py3-none-any.whl (18 kB)\n",
      "Installing collected packages: et-xmlfile, openpyxl\n",
      "Successfully installed et-xmlfile-2.0.0 openpyxl-3.1.5\n",
      "Note: you may need to restart the kernel to use updated packages.\n"
     ]
    }
   ],
   "source": [
    "pip install openpyxl\n",
    "pip install pandas\n",
    "pip install numpy"
   ]
  },
  {
   "cell_type": "code",
   "execution_count": 68,
   "metadata": {},
   "outputs": [],
   "source": [
    "import pandas as pd\n",
    "import numpy as np\n",
    "import openpyxl\n",
    "auto=pd.read_excel(r\"C:\\Users\\ph118\\Downloads\\BDA_Pre_Screening_Auto.xlsx\",engine='openpyxl')\n",
    "auto.drop(index=[0,1,2,3],inplace=True)"
   ]
  },
  {
   "cell_type": "code",
   "execution_count": 69,
   "metadata": {},
   "outputs": [
    {
     "data": {
      "text/plain": [
       "Index(['Id', 'Title', 'Brand', 'Product', 'Category', 'Network',\n",
       "       'Network Type', 'Show', 'Date', 'Time', 'Pod Position', 'Dayparts',\n",
       "       'Co-Op Brand', 'Co-Op Product', 'Duration', 'EQ Units', 'Spend ($)',\n",
       "       'Broadcast Year', 'Broadcast Month', 'Broadcast Week', 'Day Of Week',\n",
       "       'Hour Of Day', 'TimeZone'],\n",
       "      dtype='object')"
      ]
     },
     "execution_count": 69,
     "metadata": {},
     "output_type": "execute_result"
    }
   ],
   "source": [
    "auto.reset_index(drop=True,inplace=True)\n",
    "auto.columns\n"
   ]
  },
  {
   "cell_type": "code",
   "execution_count": 70,
   "metadata": {},
   "outputs": [],
   "source": [
    "auto.columns\n",
    "auto['Co-Op Brand'].nunique()\n",
    "auto['Co-Op Product'].nunique()\n",
    "auto.drop(columns={'Co-Op Brand','Co-Op Product'},inplace=True)\n"
   ]
  },
  {
   "cell_type": "code",
   "execution_count": 71,
   "metadata": {},
   "outputs": [],
   "source": [
    "duplicated=auto['Id'].duplicated()\n",
    "duplicated.unique()\n",
    "auto['Date']=pd.to_datetime(auto['Date'])\n",
    "auto['Quarter']=auto['Date'].dt.quarter"
   ]
  },
  {
   "cell_type": "code",
   "execution_count": 49,
   "metadata": {},
   "outputs": [
    {
     "data": {
      "text/plain": [
       "4"
      ]
     },
     "execution_count": 49,
     "metadata": {},
     "output_type": "execute_result"
    }
   ],
   "source": []
  },
  {
   "cell_type": "code",
   "execution_count": null,
   "metadata": {},
   "outputs": [
    {
     "data": {
      "text/html": [
       "<div>\n",
       "<style scoped>\n",
       "    .dataframe tbody tr th:only-of-type {\n",
       "        vertical-align: middle;\n",
       "    }\n",
       "\n",
       "    .dataframe tbody tr th {\n",
       "        vertical-align: top;\n",
       "    }\n",
       "\n",
       "    .dataframe thead th {\n",
       "        text-align: right;\n",
       "    }\n",
       "</style>\n",
       "<table border=\"1\" class=\"dataframe\">\n",
       "  <thead>\n",
       "    <tr style=\"text-align: right;\">\n",
       "      <th></th>\n",
       "      <th>Brand</th>\n",
       "      <th>Q1</th>\n",
       "      <th>Q2</th>\n",
       "      <th>percent_change_from_Q1</th>\n",
       "      <th>Q3</th>\n",
       "      <th>percent_change_from_Q2</th>\n",
       "      <th>Q4</th>\n",
       "      <th>percent_change_from_Q3</th>\n",
       "    </tr>\n",
       "  </thead>\n",
       "  <tbody>\n",
       "    <tr>\n",
       "      <th>0</th>\n",
       "      <td>BMW</td>\n",
       "      <td>8760</td>\n",
       "      <td>54315</td>\n",
       "      <td>520.034247</td>\n",
       "      <td>24045</td>\n",
       "      <td>-55.730461</td>\n",
       "      <td>81180</td>\n",
       "      <td>237.616968</td>\n",
       "    </tr>\n",
       "    <tr>\n",
       "      <th>1</th>\n",
       "      <td>Chevrolet</td>\n",
       "      <td>244215</td>\n",
       "      <td>170310</td>\n",
       "      <td>-30.262269</td>\n",
       "      <td>235320</td>\n",
       "      <td>38.171569</td>\n",
       "      <td>179580</td>\n",
       "      <td>-23.686894</td>\n",
       "    </tr>\n",
       "    <tr>\n",
       "      <th>2</th>\n",
       "      <td>Ford</td>\n",
       "      <td>315255</td>\n",
       "      <td>264680</td>\n",
       "      <td>-16.042569</td>\n",
       "      <td>198525</td>\n",
       "      <td>-24.994333</td>\n",
       "      <td>141270</td>\n",
       "      <td>-28.840196</td>\n",
       "    </tr>\n",
       "    <tr>\n",
       "      <th>3</th>\n",
       "      <td>Honda</td>\n",
       "      <td>201225</td>\n",
       "      <td>107235</td>\n",
       "      <td>-46.708908</td>\n",
       "      <td>16545</td>\n",
       "      <td>-84.571269</td>\n",
       "      <td>196200</td>\n",
       "      <td>1085.856754</td>\n",
       "    </tr>\n",
       "    <tr>\n",
       "      <th>4</th>\n",
       "      <td>Lexus</td>\n",
       "      <td>379175</td>\n",
       "      <td>339240</td>\n",
       "      <td>-10.532076</td>\n",
       "      <td>342830</td>\n",
       "      <td>1.058248</td>\n",
       "      <td>419940</td>\n",
       "      <td>22.492197</td>\n",
       "    </tr>\n",
       "    <tr>\n",
       "      <th>5</th>\n",
       "      <td>Toyota</td>\n",
       "      <td>225520</td>\n",
       "      <td>245170</td>\n",
       "      <td>8.713196</td>\n",
       "      <td>400700</td>\n",
       "      <td>63.437615</td>\n",
       "      <td>259395</td>\n",
       "      <td>-35.264537</td>\n",
       "    </tr>\n",
       "  </tbody>\n",
       "</table>\n",
       "</div>"
      ],
      "text/plain": [
       "       Brand      Q1      Q2 percent_change_from_Q1      Q3  \\\n",
       "0        BMW    8760   54315             520.034247   24045   \n",
       "1  Chevrolet  244215  170310             -30.262269  235320   \n",
       "2       Ford  315255  264680             -16.042569  198525   \n",
       "3      Honda  201225  107235             -46.708908   16545   \n",
       "4      Lexus  379175  339240             -10.532076  342830   \n",
       "5     Toyota  225520  245170               8.713196  400700   \n",
       "\n",
       "  percent_change_from_Q2      Q4 percent_change_from_Q3  \n",
       "0             -55.730461   81180             237.616968  \n",
       "1              38.171569  179580             -23.686894  \n",
       "2             -24.994333  141270             -28.840196  \n",
       "3             -84.571269  196200            1085.856754  \n",
       "4               1.058248  419940              22.492197  \n",
       "5              63.437615  259395             -35.264537  "
      ]
     },
     "execution_count": 72,
     "metadata": {},
     "output_type": "execute_result"
    }
   ],
   "source": [
    "#auto.groupby(auto['Quarter']).agg({'Spend ($)':'sum','Duration':'sum'}).reset_index()\n",
    "delta_duration=auto.pivot_table(index='Brand',columns='Quarter',values='Duration',aggfunc='sum').reset_index()\n",
    "# delta_duration.drop(index='Quarter',inplace=True)\n",
    "delta_duration.columns=['Brand']+[f'Q{i}' for i in range(1,5)]\n",
    "for i in range(1,auto['Quarter'].nunique(),1):\n",
    "     delta_duration[f'percent_change_from_Q{i}']=((delta_duration[f'Q{i+1}']-delta_duration[f'Q{i}'])/delta_duration[f'Q{i}'])*100\n",
    "delta_duration=delta_duration[['Brand','Q1','Q2','percent_change_from_Q1','Q3','percent_change_from_Q2','Q4','percent_change_from_Q3']]\n",
    "delta_duration\n",
    "delta_duration"
   ]
  },
  {
   "cell_type": "code",
   "execution_count": null,
   "metadata": {},
   "outputs": [],
   "source": [
    "\n",
    "auto.pivot_table(index='Brand',columns='Quarter',values='Spend ($)',aggfunc='sum')\n",
    "auto.groupby(['Brand','Quarter'])['Duration'].pct_change().reset_index(name='Change in Duration of Ads')"
   ]
  },
  {
   "cell_type": "code",
   "execution_count": null,
   "metadata": {},
   "outputs": [],
   "source": [
    "\n",
    "auto.pivot_table(index='Brand',columns='Quarter',values='Spend ($)',aggfunc='sum')\n",
    "auto.groupby(['Brand','Quarter'])['Duration'].pct_change().reset_index(name='Change in Duration of Ads')"
   ]
  },
  {
   "cell_type": "code",
   "execution_count": null,
   "metadata": {},
   "outputs": [],
   "source": [
    "auto"
   ]
  }
 ],
 "metadata": {
  "kernelspec": {
   "display_name": "Python 3",
   "language": "python",
   "name": "python3"
  },
  "language_info": {
   "codemirror_mode": {
    "name": "ipython",
    "version": 3
   },
   "file_extension": ".py",
   "mimetype": "text/x-python",
   "name": "python",
   "nbconvert_exporter": "python",
   "pygments_lexer": "ipython3",
   "version": "3.11.9"
  }
 },
 "nbformat": 4,
 "nbformat_minor": 2
}
